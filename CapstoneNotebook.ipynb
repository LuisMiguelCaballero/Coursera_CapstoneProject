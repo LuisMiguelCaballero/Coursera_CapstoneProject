{
 "cells": [
  {
   "cell_type": "markdown",
   "metadata": {},
   "source": [
    "# Capstone Project - The Battle of Neighborhoods"
   ]
  },
  {
   "cell_type": "markdown",
   "metadata": {},
   "source": [
    "## What are the best neighborhood for students in Toronto?\n",
    "\n",
    "\n",
    "### Introduction: "
   ]
  },
  {
   "cell_type": "markdown",
   "metadata": {},
   "source": [
    "##### Next year I will move to Toronto to study my Master’s Degree. Looking for an apartment made me realize that it is an exhausting process and there are a lot of different variables that someone must consider like cost, location, if the campus is nearby, if there are supermarkets or coffee shops nearby, etc. It will great to use clustering to help me, and other future students, to search for the best neighborhoods available. Also it will be really helpful if the best and worst neighborhoods can be shown in a map. This clustering method can help a lot of future students seeking for a great apartment.   \n"
   ]
  },
  {
   "cell_type": "markdown",
   "metadata": {},
   "source": [
    "### Data:"
   ]
  },
  {
   "cell_type": "markdown",
   "metadata": {},
   "source": [
    "##### I will extract from Wikipedia using web scraping:  \n",
    "##### *The postal code data \n",
    "##### *Borough\n",
    "##### *Neighborhood data \n",
    "\n",
    "##### From Foursquare I will extract the information about the supermarkets, nightclubs, restaurants, coffee shops, cinemas, universities and other locations important for students that are nearby the neighborhoods and do cluster analysis to determine the best and the worst places to search for an apartment.  \n"
   ]
  },
  {
   "cell_type": "markdown",
   "metadata": {},
   "source": [
    "### Methodology:"
   ]
  },
  {
   "cell_type": "markdown",
   "metadata": {},
   "source": [
    "##### Business Understanding: The goal is to classify and cluster different neighborhoods in Toronto and determine the best ones for students.\n",
    "\n",
    "##### Analytic Approach: We will use a clustering model and some descriptive models. \n",
    "\n",
    "##### Data Requirements: Longitudes and latitudes of neighborhoods in Toronto and the Foursquare information of the location nearby. \n",
    "\n",
    "##### Data Collection: Web scraping and Foursquare API. \n",
    "\n",
    "##### Data Understanding: Descriptive Statistics\n",
    "\n",
    "##### Data Preparation: Utilization of domain knowledge of data from foursquare.\n",
    "\n",
    "##### Modeling: Cluster Analysis. Used to cluster the different neighborhoods into clusters of \"good for students\", \"regular for students\" and \"bad for students\"  \n",
    "\n",
    "##### Evaluation: Visualization   \n"
   ]
  },
  {
   "cell_type": "markdown",
   "metadata": {},
   "source": [
    "### Results:"
   ]
  },
  {
   "cell_type": "markdown",
   "metadata": {},
   "source": [
    "##### With the clustering and map view we can see that in general the city of Toronto is a great place for students to live. The vast majority of neighborhoods are clustered as a great place to look for an apartment and just a small group of them al classified as regular or not so good places to look for an apartment. This will greatly help future and current students to do their apartment hunt.  \n"
   ]
  },
  {
   "cell_type": "markdown",
   "metadata": {},
   "source": [
    "### Discussion:"
   ]
  },
  {
   "cell_type": "markdown",
   "metadata": {},
   "source": [
    "##### This analysis had a great focus in clustering neighborhoods by comparing what services and locations the students would have available nearby. For future analysis I would recommend to evaluate and cluster neighborhoods based on living cost so the students will be able to start looking for their apartments based on their budget.  \n"
   ]
  },
  {
   "cell_type": "markdown",
   "metadata": {},
   "source": [
    "### Conclusion:"
   ]
  },
  {
   "cell_type": "markdown",
   "metadata": {},
   "source": [
    "##### We can conclude that even though it in an expensive city, Toronto us a great place for students and there are a lot of different places and neighborhoods available that offer all the basic needs and commodities that a student need. There are just a few neighborhoods that aren´t recommended because they offer different types of services close by or because they just don’t have a lot of services near the location. \n"
   ]
  },
  {
   "cell_type": "code",
   "execution_count": null,
   "metadata": {},
   "outputs": [],
   "source": []
  }
 ],
 "metadata": {
  "kernelspec": {
   "display_name": "Python 3",
   "language": "python",
   "name": "python3"
  },
  "language_info": {
   "codemirror_mode": {
    "name": "ipython",
    "version": 3
   },
   "file_extension": ".py",
   "mimetype": "text/x-python",
   "name": "python",
   "nbconvert_exporter": "python",
   "pygments_lexer": "ipython3",
   "version": "3.6.5"
  }
 },
 "nbformat": 4,
 "nbformat_minor": 2
}
